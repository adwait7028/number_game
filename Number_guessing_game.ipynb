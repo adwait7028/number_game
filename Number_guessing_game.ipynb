{
 "cells": [
  {
   "cell_type": "code",
   "execution_count": 5,
   "id": "d5cf908f-7851-4a3a-a120-565a9b1cdcfe",
   "metadata": {},
   "outputs": [
    {
     "name": "stdout",
     "output_type": "stream",
     "text": [
      "Welcome to the Number Guessing Game!\n"
     ]
    },
    {
     "name": "stdin",
     "output_type": "stream",
     "text": [
      "Enter the lower bound of the range:  10\n",
      "Enter the upper bound of the range:  20\n"
     ]
    },
    {
     "name": "stdout",
     "output_type": "stream",
     "text": [
      "I have selected a number between 10 and 20. Can you guess it?\n"
     ]
    },
    {
     "name": "stdin",
     "output_type": "stream",
     "text": [
      "Enter your guess:  11\n"
     ]
    },
    {
     "name": "stdout",
     "output_type": "stream",
     "text": [
      "Too low! Try again.\n"
     ]
    },
    {
     "name": "stdin",
     "output_type": "stream",
     "text": [
      "Enter your guess:  13\n"
     ]
    },
    {
     "name": "stdout",
     "output_type": "stream",
     "text": [
      "Too low! Try again.\n"
     ]
    },
    {
     "name": "stdin",
     "output_type": "stream",
     "text": [
      "Enter your guess:  18\n"
     ]
    },
    {
     "name": "stdout",
     "output_type": "stream",
     "text": [
      "Too high! Try again.\n"
     ]
    },
    {
     "name": "stdin",
     "output_type": "stream",
     "text": [
      "Enter your guess:  15\n"
     ]
    },
    {
     "name": "stdout",
     "output_type": "stream",
     "text": [
      "Congratulations! You guessed the number in 4 attempts.\n"
     ]
    }
   ],
   "source": [
    "# import random\n",
    "\n",
    "def number_guessing_game():\n",
    "    \"\"\"A simple number guessing game.\"\"\"\n",
    "    print(\"Welcome to the Number Guessing Game!\")\n",
    "\n",
    "    # Set the range for the random number\n",
    "    lower_bound = int(input(\"Enter the lower bound of the range: \"))\n",
    "    upper_bound = int(input(\"Enter the upper bound of the range: \"))\n",
    "\n",
    "    if lower_bound >= upper_bound:\n",
    "        print(\"Invalid range. The upper bound must be greater than the lower bound.\")\n",
    "        return\n",
    "\n",
    "    # Generate a random number within the range\n",
    "    target_number = random.randint(lower_bound, upper_bound)\n",
    "\n",
    "    print(f\"I have selected a number between {lower_bound} and {upper_bound}. Can you guess it?\")\n",
    "\n",
    "    attempts = 0\n",
    "\n",
    "    while True:\n",
    "        try:\n",
    "            # Get the player's guess\n",
    "            guess = int(input(\"Enter your guess: \"))\n",
    "            attempts += 1\n",
    "\n",
    "            # Check the guess\n",
    "            if guess < target_number:\n",
    "                print(\"Too low! Try again.\")\n",
    "            elif guess > target_number:\n",
    "                print(\"Too high! Try again.\")\n",
    "            else:\n",
    "                print(f\"Congratulations! You guessed the number in {attempts} attempts.\")\n",
    "                break\n",
    "        except ValueError:\n",
    "            print(\"Please enter a valid number.\")\n",
    "\n",
    "if __name__ == \"__main__\":\n",
    "    number_guessing_game()\n"
   ]
  },
  {
   "cell_type": "code",
   "execution_count": null,
   "id": "7554bf36-19ee-4384-b4da-4c904c40fb8d",
   "metadata": {},
   "outputs": [],
   "source": []
  }
 ],
 "metadata": {
  "kernelspec": {
   "display_name": "Python [conda env:base] *",
   "language": "python",
   "name": "conda-base-py"
  },
  "language_info": {
   "codemirror_mode": {
    "name": "ipython",
    "version": 3
   },
   "file_extension": ".py",
   "mimetype": "text/x-python",
   "name": "python",
   "nbconvert_exporter": "python",
   "pygments_lexer": "ipython3",
   "version": "3.12.7"
  }
 },
 "nbformat": 4,
 "nbformat_minor": 5
}
